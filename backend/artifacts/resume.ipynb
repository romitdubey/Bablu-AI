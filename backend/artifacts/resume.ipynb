{
 "cells": [
  {
   "cell_type": "code",
   "execution_count": 18,
   "id": "9c90c779",
   "metadata": {},
   "outputs": [
    {
     "data": {
      "text/plain": [
       "'c:\\\\Users\\\\hp\\\\Desktop\\\\Bablu-AI\\\\backend\\\\artifacts'"
      ]
     },
     "execution_count": 18,
     "metadata": {},
     "output_type": "execute_result"
    }
   ],
   "source": [
    "pwd"
   ]
  },
  {
   "cell_type": "code",
   "execution_count": 29,
   "id": "20082b0c",
   "metadata": {},
   "outputs": [
    {
     "name": "stdout",
     "output_type": "stream",
     "text": [
      "ROMIT DUBEY\n",
      "Data Scientist | Machine Learning Engineer\n",
      "romitdubey1@gmail.com | +91 8005484401 | Prayagraj, Uttar Pradesh\n",
      "GitHub | Linkedin\n",
      "Education\n",
      "Banaras Hindu University Varanasi Uttar Pradesh\n",
      "Master of Computer Application August 2024 - Present\n",
      "SGPA: 8.45\n",
      "Prof. Rajendra Singh (Rajju Bhaiya)University Prayagraj Uttar Pradesh\n",
      "Bachelor of Computer Application July 2019 - October 2022\n",
      "Percentage: 69.59 %\n",
      "Brij Behari Sahai Inter College Prayagraj Uttar Pradesh\n",
      "Intermediate July 2017 - April 2019\n",
      "Percentage: 79.3 %\n",
      "Brij Behari Sahai Vidya Mandir Prayagraj Uttar Pradesh\n",
      "High School July 2015 - July 2017\n",
      "CGPA: 9.4\n",
      "Experience\n",
      "Indian Institute of Technology, Bombay | Internship Remote | March 2022 - February 2023\n",
      "•Contributing to a project focused on digitizing.\n",
      "•Sanskrit literature by converting old Sanskrit books into a digital format.\n",
      "•We use OpenOCR software for this operation, which turns the Sanskrit document into editable text\n",
      "format.\n",
      "Skills\n",
      "Programming Languages : Python, JavaScript, Java, C, NodeJs\n",
      "Frameworks : Flasks, TensorFlow, PyTorch, Selenium, BeautifulSoup, Scikit Learn\n",
      "Tools / Platforms : Power BI, Google Cloud Platform (GCP), Microsoft Azure, Postman\n",
      "Databases : SQL, MongoDB\n",
      "Projects\n",
      "AI-Based Customized Time-Slot Delivery System | Link Python, Machine Learning\n",
      "•Selected for Smart India Hackathon 2024 as part of a team developing an AI-driven system for\n",
      "dynamic parcel delivery scheduling.\n",
      "•Focused on AI model development andbackend implementation to optimize scheduling based on\n",
      "sender and receiver availability.\n",
      "•Improved data quality by 33%through preprocessing techniques such as handling missing values and\n",
      "encoding categorical variables.\n",
      "Kidney Disease Classification | Link Python, Convolutional Neural Network (CNN), ML Flow\n",
      "•Leveraged deep learning (CNNs) to develop a model for classifying kidney diseases from medical\n",
      "images (e.g., Xray image).\n",
      "•Achieved90% accuracy in identifying various kidney conditions.\n",
      "•Utilized TensorFlow for model development and training.\n",
      "•Employed image preprocessing techniques for data preparation.\n",
      "•Implemented evaluation metrics (accuracy, precision, recall, F1-score) to assess model performance.\n",
      "Certifications\n",
      "•1 Year Data Science Masters Certification - P.W. Skills\n",
      "•Computer Vision - Kaggle\n",
      "•Data Analysis with Python - IBM\n",
      "•Databases and SQL for Data Science with Python - IBM\n"
     ]
    }
   ],
   "source": [
    "import PyPDF2\n",
    "\n",
    "def extract_text_from_pdf(pdf_path):\n",
    "    text = \"\"\n",
    "    with open(pdf_path, 'rb') as file:\n",
    "        reader = PyPDF2.PdfReader(file)\n",
    "        for page in reader.pages:\n",
    "            text += page.extract_text()\n",
    "    return text\n",
    "\n",
    "# Example usage\n",
    "pdf_path = \"resume\\\\Romit_Dubey_Resume_AIC.pdf\"  # Replace with the path to your PDF file\n",
    "resume_text = extract_text_from_pdf(pdf_path)\n",
    "print(resume_text)"
   ]
  },
  {
   "cell_type": "code",
   "execution_count": 27,
   "id": "034c1b60",
   "metadata": {},
   "outputs": [],
   "source": [
    "import os\n",
    "\n",
    "os.chdir(\"..\")"
   ]
  },
  {
   "cell_type": "code",
   "execution_count": 28,
   "id": "9852c97d",
   "metadata": {},
   "outputs": [
    {
     "data": {
      "text/plain": [
       "'c:\\\\Users\\\\hp\\\\Desktop\\\\Bablu-AI\\\\backend'"
      ]
     },
     "execution_count": 28,
     "metadata": {},
     "output_type": "execute_result"
    }
   ],
   "source": [
    "os.getcwd()"
   ]
  },
  {
   "cell_type": "code",
   "execution_count": null,
   "id": "e0a626bd",
   "metadata": {},
   "outputs": [],
   "source": []
  }
 ],
 "metadata": {
  "kernelspec": {
   "display_name": "bhudeep",
   "language": "python",
   "name": "python3"
  },
  "language_info": {
   "codemirror_mode": {
    "name": "ipython",
    "version": 3
   },
   "file_extension": ".py",
   "mimetype": "text/x-python",
   "name": "python",
   "nbconvert_exporter": "python",
   "pygments_lexer": "ipython3",
   "version": "3.10.16"
  }
 },
 "nbformat": 4,
 "nbformat_minor": 5
}
